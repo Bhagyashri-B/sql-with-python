{
 "cells": [
  {
   "cell_type": "code",
   "execution_count": 3,
   "id": "37b94a35-21de-43bd-81fe-dfb0586f98d4",
   "metadata": {
    "tags": []
   },
   "outputs": [],
   "source": [
    "%run \"coffeeshop.py\""
   ]
  },
  {
   "cell_type": "code",
   "execution_count": null,
   "id": "fc9942b1-e6da-41f1-9114-5fec143aed05",
   "metadata": {},
   "outputs": [],
   "source": []
  },
  {
   "cell_type": "code",
   "execution_count": null,
   "id": "aa6e2373-0dfa-4d3c-b1b4-59da07b644f5",
   "metadata": {},
   "outputs": [],
   "source": []
  },
  {
   "cell_type": "code",
   "execution_count": null,
   "id": "4b8e1843-7f5b-4518-b41b-eb3aae2a3b68",
   "metadata": {},
   "outputs": [],
   "source": []
  },
  {
   "cell_type": "code",
   "execution_count": null,
   "id": "e18e3154-534b-40de-ab1c-226f8b41d67c",
   "metadata": {},
   "outputs": [],
   "source": []
  }
 ],
 "metadata": {
  "kernelspec": {
   "display_name": "Python 3 (ipykernel)",
   "language": "python",
   "name": "python3"
  },
  "language_info": {
   "codemirror_mode": {
    "name": "ipython",
    "version": 3
   },
   "file_extension": ".py",
   "mimetype": "text/x-python",
   "name": "python",
   "nbconvert_exporter": "python",
   "pygments_lexer": "ipython3",
   "version": "3.11.5"
  }
 },
 "nbformat": 4,
 "nbformat_minor": 5
}
